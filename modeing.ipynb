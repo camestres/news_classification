{
 "cells": [
  {
   "cell_type": "code",
   "execution_count": 11,
   "id": "720124a4-3859-4c85-bc0c-070176dc9dff",
   "metadata": {
    "execution": {
     "iopub.execute_input": "2025-02-27T08:20:55.776637Z",
     "iopub.status.busy": "2025-02-27T08:20:55.775628Z",
     "iopub.status.idle": "2025-02-27T08:20:55.780586Z",
     "shell.execute_reply": "2025-02-27T08:20:55.779730Z",
     "shell.execute_reply.started": "2025-02-27T08:20:55.776600Z"
    },
    "tags": []
   },
   "outputs": [],
   "source": [
    "!pip install -r requirements.txt"
   ]
  },
  {
   "cell_type": "code",
   "execution_count": 2,
   "id": "af004277-a8da-452a-89fb-6856d29a9660",
   "metadata": {
    "execution": {
     "iopub.execute_input": "2025-02-27T08:13:34.186633Z",
     "iopub.status.busy": "2025-02-27T08:13:34.186033Z",
     "iopub.status.idle": "2025-02-27T08:13:38.720548Z",
     "shell.execute_reply": "2025-02-27T08:13:38.719430Z",
     "shell.execute_reply.started": "2025-02-27T08:13:34.186601Z"
    },
    "tags": []
   },
   "outputs": [
    {
     "name": "stderr",
     "output_type": "stream",
     "text": [
      "[nltk_data] Downloading package punkt_tab to /home/jovyan/nltk_data...\n",
      "[nltk_data]   Package punkt_tab is already up-to-date!\n",
      "[nltk_data] Downloading package stopwords to /home/jovyan/nltk_data...\n",
      "[nltk_data]   Package stopwords is already up-to-date!\n",
      "[nltk_data] Downloading package wordnet to /home/jovyan/nltk_data...\n",
      "[nltk_data]   Package wordnet is already up-to-date!\n"
     ]
    }
   ],
   "source": [
    "import pandas as pd\n",
    "import numpy as np\n",
    "import os\n",
    "from tensorflow.keras.preprocessing.text import Tokenizer\n",
    "from tensorflow.keras.preprocessing.sequence import pad_sequences\n",
    "from tensorflow.keras.models import Sequential\n",
    "from tensorflow.keras.layers import Embedding, Dense, Dropout, GlobalAveragePooling1D\n",
    "from sklearn.preprocessing import LabelEncoder\n",
    "from data_prepare import preprocess_text"
   ]
  },
  {
   "cell_type": "code",
   "execution_count": 3,
   "id": "e96c145d-4e5c-4422-801b-6e8c60154ab5",
   "metadata": {
    "execution": {
     "iopub.execute_input": "2025-02-27T08:13:38.723118Z",
     "iopub.status.busy": "2025-02-27T08:13:38.722521Z",
     "iopub.status.idle": "2025-02-27T08:13:39.316771Z",
     "shell.execute_reply": "2025-02-27T08:13:39.315964Z",
     "shell.execute_reply.started": "2025-02-27T08:13:38.723076Z"
    },
    "id": "TQBlNTkUMS4R",
    "tags": []
   },
   "outputs": [],
   "source": [
    "# Загрузка данных\n",
    "df = pd.read_csv('data/labelled_newscatcher_dataset.csv', sep=\";\")"
   ]
  },
  {
   "cell_type": "code",
   "execution_count": 4,
   "id": "44b3e3b4-2bb1-4ffb-98b1-6cc816fcdd30",
   "metadata": {
    "execution": {
     "iopub.execute_input": "2025-02-27T08:13:39.318275Z",
     "iopub.status.busy": "2025-02-27T08:13:39.317874Z",
     "iopub.status.idle": "2025-02-27T08:14:16.884022Z",
     "shell.execute_reply": "2025-02-27T08:14:16.882180Z",
     "shell.execute_reply.started": "2025-02-27T08:13:39.318238Z"
    },
    "tags": []
   },
   "outputs": [],
   "source": [
    "# Предобработка текстов\n",
    "df['title'] = df['title'].apply(preprocess_text)"
   ]
  },
  {
   "cell_type": "code",
   "execution_count": 5,
   "id": "7a0d5847-c397-47ae-9364-c7d124a9096e",
   "metadata": {
    "execution": {
     "iopub.execute_input": "2025-02-27T08:14:16.887670Z",
     "iopub.status.busy": "2025-02-27T08:14:16.886597Z",
     "iopub.status.idle": "2025-02-27T08:14:20.036796Z",
     "shell.execute_reply": "2025-02-27T08:14:20.035726Z",
     "shell.execute_reply.started": "2025-02-27T08:14:16.887629Z"
    },
    "tags": []
   },
   "outputs": [],
   "source": [
    "# Векторизация текстов\n",
    "tokenizer = Tokenizer(num_words=10000)\n",
    "tokenizer.fit_on_texts(df['title'])\n",
    "sequences = tokenizer.texts_to_sequences(df['title'])\n",
    "padded = pad_sequences(sequences, maxlen=200)"
   ]
  },
  {
   "cell_type": "code",
   "execution_count": 6,
   "id": "253e3bce-4471-4fe5-8a21-61950197dec2",
   "metadata": {
    "execution": {
     "iopub.execute_input": "2025-02-27T08:14:20.039011Z",
     "iopub.status.busy": "2025-02-27T08:14:20.038545Z",
     "iopub.status.idle": "2025-02-27T08:14:20.065260Z",
     "shell.execute_reply": "2025-02-27T08:14:20.064481Z",
     "shell.execute_reply.started": "2025-02-27T08:14:20.038982Z"
    },
    "tags": []
   },
   "outputs": [],
   "source": [
    "# Преобразование меток\n",
    "le = LabelEncoder()\n",
    "labels = le.fit_transform(df['topic'])"
   ]
  },
  {
   "cell_type": "code",
   "execution_count": 7,
   "id": "46a32f6c-4e75-48bf-bdc2-7d31a5d07863",
   "metadata": {
    "execution": {
     "iopub.execute_input": "2025-02-27T08:14:20.068633Z",
     "iopub.status.busy": "2025-02-27T08:14:20.068119Z",
     "iopub.status.idle": "2025-02-27T08:14:20.281105Z",
     "shell.execute_reply": "2025-02-27T08:14:20.279988Z",
     "shell.execute_reply.started": "2025-02-27T08:14:20.068608Z"
    },
    "tags": []
   },
   "outputs": [],
   "source": [
    "# Модель\n",
    "model = Sequential([\n",
    "    Embedding(input_dim=10000, output_dim=128, input_length=200),\n",
    "    Dense(64, activation='relu'),\n",
    "    GlobalAveragePooling1D(),\n",
    "    Dropout(0.2),\n",
    "    Dense(len(set(labels)), activation='softmax')\n",
    "])\n",
    "\n",
    "model.compile(loss='sparse_categorical_crossentropy', optimizer='adam', metrics=['accuracy'])"
   ]
  },
  {
   "cell_type": "code",
   "execution_count": 8,
   "id": "568ec2e2-122a-438b-88ce-8e859a465b05",
   "metadata": {
    "execution": {
     "iopub.execute_input": "2025-02-27T08:14:20.283707Z",
     "iopub.status.busy": "2025-02-27T08:14:20.283397Z",
     "iopub.status.idle": "2025-02-27T08:18:34.387879Z",
     "shell.execute_reply": "2025-02-27T08:18:34.386307Z",
     "shell.execute_reply.started": "2025-02-27T08:14:20.283681Z"
    },
    "tags": []
   },
   "outputs": [
    {
     "name": "stdout",
     "output_type": "stream",
     "text": [
      "Epoch 1/5\n",
      "2720/2720 [==============================] - 53s 19ms/step - loss: 1.2464 - accuracy: 0.5609 - val_loss: 0.8298 - val_accuracy: 0.7056\n",
      "Epoch 2/5\n",
      "2720/2720 [==============================] - 49s 18ms/step - loss: 0.7454 - accuracy: 0.7489 - val_loss: 0.6953 - val_accuracy: 0.7702\n",
      "Epoch 3/5\n",
      "2720/2720 [==============================] - 50s 19ms/step - loss: 0.6383 - accuracy: 0.7891 - val_loss: 0.6661 - val_accuracy: 0.7818\n",
      "Epoch 4/5\n",
      "2720/2720 [==============================] - 50s 19ms/step - loss: 0.5797 - accuracy: 0.8092 - val_loss: 0.6540 - val_accuracy: 0.7851\n",
      "Epoch 5/5\n",
      "2720/2720 [==============================] - 51s 19ms/step - loss: 0.5445 - accuracy: 0.8188 - val_loss: 0.6600 - val_accuracy: 0.7854\n"
     ]
    },
    {
     "data": {
      "text/plain": [
       "<keras.src.callbacks.History at 0x7f117ee83940>"
      ]
     },
     "execution_count": 8,
     "metadata": {},
     "output_type": "execute_result"
    }
   ],
   "source": [
    "model.fit(padded, labels, epochs=5, batch_size=32, validation_split=0.2)"
   ]
  },
  {
   "cell_type": "code",
   "execution_count": 9,
   "id": "49cc25c9-e952-4db5-ac02-84d857389197",
   "metadata": {
    "execution": {
     "iopub.execute_input": "2025-02-27T08:18:34.390457Z",
     "iopub.status.busy": "2025-02-27T08:18:34.389974Z",
     "iopub.status.idle": "2025-02-27T08:18:44.194246Z",
     "shell.execute_reply": "2025-02-27T08:18:44.193001Z",
     "shell.execute_reply.started": "2025-02-27T08:18:34.390424Z"
    },
    "tags": []
   },
   "outputs": [
    {
     "name": "stdout",
     "output_type": "stream",
     "text": [
      "3400/3400 [==============================] - 10s 3ms/step - loss: 0.4928 - accuracy: 0.8389\n",
      "Accuracy: 0.839\n"
     ]
    }
   ],
   "source": [
    "# Оценка модели\n",
    "loss, accuracy = model.evaluate(padded, labels)\n",
    "print(f'Accuracy: {accuracy:.3f}')"
   ]
  },
  {
   "cell_type": "code",
   "execution_count": 10,
   "id": "be0854d2-e671-41b1-bbdb-327a55ab928d",
   "metadata": {
    "execution": {
     "iopub.execute_input": "2025-02-27T08:18:44.196316Z",
     "iopub.status.busy": "2025-02-27T08:18:44.195997Z",
     "iopub.status.idle": "2025-02-27T08:18:45.175227Z",
     "shell.execute_reply": "2025-02-27T08:18:45.173950Z",
     "shell.execute_reply.started": "2025-02-27T08:18:44.196287Z"
    },
    "tags": []
   },
   "outputs": [
    {
     "name": "stdout",
     "output_type": "stream",
     "text": [
      "INFO:tensorflow:Assets written to: models/news_classification_model/assets\n"
     ]
    },
    {
     "name": "stderr",
     "output_type": "stream",
     "text": [
      "INFO:tensorflow:Assets written to: models/news_classification_model/assets\n"
     ]
    }
   ],
   "source": [
    "# Сохранение модели\n",
    "models_dir = 'models'\n",
    "if not os.path.exists(models_dir):\n",
    "    os.makedirs(models_dir)\n",
    "    \n",
    "model_path = os.path.join(models_dir, 'news_classification_model')\n",
    "model.save(model_path)"
   ]
  }
 ],
 "metadata": {
  "kernelspec": {
   "display_name": "Python 3 (ipykernel)",
   "language": "python",
   "name": "python3"
  },
  "language_info": {
   "codemirror_mode": {
    "name": "ipython",
    "version": 3
   },
   "file_extension": ".py",
   "mimetype": "text/x-python",
   "name": "python",
   "nbconvert_exporter": "python",
   "pygments_lexer": "ipython3",
   "version": "3.9.13"
  }
 },
 "nbformat": 4,
 "nbformat_minor": 5
}
