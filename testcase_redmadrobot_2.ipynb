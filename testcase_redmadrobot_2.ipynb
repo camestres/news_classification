{
  "nbformat": 4,
  "nbformat_minor": 0,
  "metadata": {
    "colab": {
      "provenance": []
    },
    "kernelspec": {
      "name": "python3",
      "display_name": "Python 3"
    },
    "language_info": {
      "name": "python"
    }
  },
  "cells": [
    {
      "cell_type": "code",
      "execution_count": 27,
      "metadata": {
        "id": "7GdDI2tULi01"
      },
      "outputs": [],
      "source": [
        "import pandas as pd\n",
        "import numpy as np\n",
        "import nltk\n",
        "from nltk.tokenize import word_tokenize\n",
        "from nltk.corpus import stopwords\n",
        "from nltk.stem import WordNetLemmatizer\n",
        "from tensorflow.keras.preprocessing.text import Tokenizer\n",
        "from tensorflow.keras.preprocessing.sequence import pad_sequences\n",
        "from tensorflow.keras.models import Sequential\n",
        "from tensorflow.keras.layers import Embedding, Dense, Dropout, GlobalAveragePooling1D\n",
        "from sklearn.preprocessing import LabelEncoder"
      ]
    },
    {
      "cell_type": "code",
      "source": [
        "nltk.download('punkt_tab')\n",
        "nltk.download('stopwords')\n",
        "nltk.download('wordnet')"
      ],
      "metadata": {
        "colab": {
          "base_uri": "https://localhost:8080/"
        },
        "id": "9qqvN3K_NFKk",
        "outputId": "58bbb4ce-7836-4e75-ef63-168845cad7e4"
      },
      "execution_count": 11,
      "outputs": [
        {
          "output_type": "stream",
          "name": "stderr",
          "text": [
            "[nltk_data] Downloading package punkt_tab to /root/nltk_data...\n",
            "[nltk_data]   Package punkt_tab is already up-to-date!\n",
            "[nltk_data] Downloading package stopwords to /root/nltk_data...\n",
            "[nltk_data]   Package stopwords is already up-to-date!\n",
            "[nltk_data] Downloading package wordnet to /root/nltk_data...\n"
          ]
        },
        {
          "output_type": "execute_result",
          "data": {
            "text/plain": [
              "True"
            ]
          },
          "metadata": {},
          "execution_count": 11
        }
      ]
    },
    {
      "cell_type": "code",
      "source": [
        "# Загрузка данных\n",
        "df = pd.read_csv('labelled_newscatcher_dataset.csv', sep=\";\")"
      ],
      "metadata": {
        "id": "TQBlNTkUMS4R"
      },
      "execution_count": 3,
      "outputs": []
    },
    {
      "cell_type": "code",
      "source": [
        "# Предобработка текстов\n",
        "def preprocess_text(text):\n",
        "    tokens = word_tokenize(text.lower())\n",
        "    tokens = [t for t in tokens if t.isalpha()]\n",
        "    stop_words = set(stopwords.words('english'))\n",
        "    tokens = [t for t in tokens if t not in stop_words]\n",
        "    lemmatizer = WordNetLemmatizer()\n",
        "    tokens = [lemmatizer.lemmatize(t) for t in tokens]\n",
        "    return ' '.join(tokens)\n",
        "\n",
        "df['title'] = df['title'].apply(preprocess_text)"
      ],
      "metadata": {
        "id": "ezPHxYjxMyq3"
      },
      "execution_count": 12,
      "outputs": []
    },
    {
      "cell_type": "code",
      "source": [
        "# Векторизация текстов\n",
        "tokenizer = Tokenizer(num_words=10000)\n",
        "tokenizer.fit_on_texts(df['title'])\n",
        "sequences = tokenizer.texts_to_sequences(df['title'])\n",
        "padded = pad_sequences(sequences, maxlen=200)"
      ],
      "metadata": {
        "id": "8N_-OWjYN0kW"
      },
      "execution_count": 14,
      "outputs": []
    },
    {
      "cell_type": "code",
      "source": [
        "# Преобразование меток в числовой формат\n",
        "le = LabelEncoder()\n",
        "labels = le.fit_transform(df['topic'])\n",
        "labels = labels.reshape(-1)"
      ],
      "metadata": {
        "id": "80fHD7fON4tm"
      },
      "execution_count": 25,
      "outputs": []
    },
    {
      "cell_type": "code",
      "source": [
        "labels.reshape(-1)"
      ],
      "metadata": {
        "colab": {
          "base_uri": "https://localhost:8080/"
        },
        "id": "Vcof-aIkQopl",
        "outputId": "60fadbdd-5d76-4540-8b3c-75c52205e2c9"
      },
      "execution_count": 24,
      "outputs": [
        {
          "output_type": "execute_result",
          "data": {
            "text/plain": [
              "array([4, 4, 4, ..., 2, 1, 5])"
            ]
          },
          "metadata": {},
          "execution_count": 24
        }
      ]
    },
    {
      "cell_type": "code",
      "source": [
        "# Создание модели\n",
        "model = Sequential([\n",
        "    Embedding(input_dim=10000, output_dim=128, input_length=200),\n",
        "    Dense(64, activation='relu'),\n",
        "    GlobalAveragePooling1D(),\n",
        "    # Dropout(0.2),\n",
        "    Dense(len(set(labels)), activation='softmax')\n",
        "])\n",
        "\n",
        "model.compile(loss='sparse_categorical_crossentropy', optimizer='adam', metrics=['accuracy'])"
      ],
      "metadata": {
        "colab": {
          "base_uri": "https://localhost:8080/"
        },
        "id": "kU8M9r5TODn8",
        "outputId": "77071246-43c3-440a-c9a2-ee106ad36ac9"
      },
      "execution_count": 28,
      "outputs": [
        {
          "output_type": "stream",
          "name": "stderr",
          "text": [
            "/usr/local/lib/python3.11/dist-packages/keras/src/layers/core/embedding.py:90: UserWarning: Argument `input_length` is deprecated. Just remove it.\n",
            "  warnings.warn(\n"
          ]
        }
      ]
    },
    {
      "cell_type": "code",
      "source": [
        "# Обучение модели\n",
        "model.fit(padded, labels, epochs=5, batch_size=32, validation_split=0.2)"
      ],
      "metadata": {
        "colab": {
          "base_uri": "https://localhost:8080/"
        },
        "id": "6pyN1L-cOHNO",
        "outputId": "7af7ed5b-b74a-4ef7-e430-ee7aec9f49c6"
      },
      "execution_count": 29,
      "outputs": [
        {
          "output_type": "stream",
          "name": "stdout",
          "text": [
            "Epoch 1/5\n",
            "\u001b[1m2720/2720\u001b[0m \u001b[32m━━━━━━━━━━━━━━━━━━━━\u001b[0m\u001b[37m\u001b[0m \u001b[1m75s\u001b[0m 27ms/step - accuracy: 0.4382 - loss: 1.5586 - val_accuracy: 0.7137 - val_loss: 0.8348\n",
            "Epoch 2/5\n",
            "\u001b[1m2720/2720\u001b[0m \u001b[32m━━━━━━━━━━━━━━━━━━━━\u001b[0m\u001b[37m\u001b[0m \u001b[1m78s\u001b[0m 25ms/step - accuracy: 0.7631 - loss: 0.7263 - val_accuracy: 0.7700 - val_loss: 0.6974\n",
            "Epoch 3/5\n",
            "\u001b[1m2720/2720\u001b[0m \u001b[32m━━━━━━━━━━━━━━━━━━━━\u001b[0m\u001b[37m\u001b[0m \u001b[1m84s\u001b[0m 26ms/step - accuracy: 0.8074 - loss: 0.5842 - val_accuracy: 0.7771 - val_loss: 0.6728\n",
            "Epoch 4/5\n",
            "\u001b[1m2720/2720\u001b[0m \u001b[32m━━━━━━━━━━━━━━━━━━━━\u001b[0m\u001b[37m\u001b[0m \u001b[1m80s\u001b[0m 25ms/step - accuracy: 0.8290 - loss: 0.5153 - val_accuracy: 0.7817 - val_loss: 0.6631\n",
            "Epoch 5/5\n",
            "\u001b[1m2720/2720\u001b[0m \u001b[32m━━━━━━━━━━━━━━━━━━━━\u001b[0m\u001b[37m\u001b[0m \u001b[1m70s\u001b[0m 26ms/step - accuracy: 0.8424 - loss: 0.4772 - val_accuracy: 0.7796 - val_loss: 0.6777\n"
          ]
        },
        {
          "output_type": "execute_result",
          "data": {
            "text/plain": [
              "<keras.src.callbacks.history.History at 0x79e96ad40d90>"
            ]
          },
          "metadata": {},
          "execution_count": 29
        }
      ]
    },
    {
      "cell_type": "code",
      "source": [
        "# Оценка модели\n",
        "loss, accuracy = model.evaluate(padded, labels)\n",
        "print(f'Accuracy: {accuracy:.3f}')"
      ],
      "metadata": {
        "colab": {
          "base_uri": "https://localhost:8080/"
        },
        "id": "3dE4uPhlMSob",
        "outputId": "d7a74e60-9ed3-4e86-b878-858d8c42e126"
      },
      "execution_count": 30,
      "outputs": [
        {
          "output_type": "stream",
          "name": "stdout",
          "text": [
            "\u001b[1m3400/3400\u001b[0m \u001b[32m━━━━━━━━━━━━━━━━━━━━\u001b[0m\u001b[37m\u001b[0m \u001b[1m24s\u001b[0m 7ms/step - accuracy: 0.8655 - loss: 0.4193\n",
            "Accuracy: 0.845\n"
          ]
        }
      ]
    },
    {
      "cell_type": "code",
      "source": [],
      "metadata": {
        "id": "JgjEN_ajS3Ab"
      },
      "execution_count": null,
      "outputs": []
    }
  ]
}